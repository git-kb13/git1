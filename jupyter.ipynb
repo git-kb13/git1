{
 "cells": [
  {
   "cell_type": "code",
   "execution_count": 11,
   "id": "b86fe4b5-cb1d-4ee0-adcf-795174e010a5",
   "metadata": {},
   "outputs": [
    {
     "name": "stdin",
     "output_type": "stream",
     "text": [
      "enter a number 456\n"
     ]
    },
    {
     "name": "stdout",
     "output_type": "stream",
     "text": [
      "product of the nums 120\n"
     ]
    }
   ],
   "source": [
    "n=int(input(\"enter a number\"))\n",
    "def kb1(n):\n",
    "    p=1\n",
    "    while(n>0):\n",
    "        value=n%10\n",
    "        p=p*value\n",
    "        n=n//10\n",
    "    print(\"product of the nums\",p)\n",
    "kb1(n)"
   ]
  },
  {
   "cell_type": "code",
   "execution_count": 13,
   "id": "42f29dc0-a5e7-4f09-bc75-241bd0e2ef11",
   "metadata": {},
   "outputs": [
    {
     "name": "stdin",
     "output_type": "stream",
     "text": [
      "enter a number 90623354678\n"
     ]
    },
    {
     "name": "stdout",
     "output_type": "stream",
     "text": [
      "sum of the nums 53\n"
     ]
    }
   ],
   "source": [
    "n=int(input(\"enter a number\"))\n",
    "def kb2(n):\n",
    "    s=0\n",
    "    while(n>0):\n",
    "        value=n%10\n",
    "        s+=value\n",
    "        n=n//10\n",
    "    print(\"sum of the nums\",s)\n",
    "kb2(n)"
   ]
  },
  {
   "cell_type": "code",
   "execution_count": 16,
   "id": "20a8826e-cb43-42e1-9faf-437310816c63",
   "metadata": {},
   "outputs": [
    {
     "name": "stdin",
     "output_type": "stream",
     "text": [
      "enter a number 896846650\n"
     ]
    },
    {
     "name": "stdout",
     "output_type": "stream",
     "text": [
      "sum is 52\n"
     ]
    }
   ],
   "source": [
    "n=(input(\"enter a number\"))\n",
    "def kb3(n):\n",
    "    sum=0\n",
    "    for i in n:\n",
    "        sum+=int(i)\n",
    "    print(\"sum is\",sum)\n",
    "kb3(n)"
   ]
  },
  {
   "cell_type": "code",
   "execution_count": 14,
   "id": "8c2cd2d5-13be-4396-9a33-3ae654b94793",
   "metadata": {},
   "outputs": [
    {
     "name": "stdin",
     "output_type": "stream",
     "text": [
      "enter a number 1234\n"
     ]
    },
    {
     "name": "stdout",
     "output_type": "stream",
     "text": [
      "product is 24\n"
     ]
    }
   ],
   "source": [
    "n=(input(\"enter a number\"))\n",
    "p=1\n",
    "for i in n:\n",
    "    p*=int(i)\n",
    "print(\"product is\",p)"
   ]
  },
  {
   "cell_type": "code",
   "execution_count": 17,
   "id": "b6cbc0ca-b685-431b-a1ee-7e88ddde971f",
   "metadata": {},
   "outputs": [
    {
     "name": "stdout",
     "output_type": "stream",
     "text": [
      "sum is 400\n"
     ]
    }
   ],
   "source": [
    "#sum of all odd nos between 1 to 50\n",
    "def kb4():\n",
    "    s=0\n",
    "    for i in range(1,40, 2):\n",
    "        s=s+i\n",
    "    print(\"sum is\",s)\n",
    "kb4()"
   ]
  },
  {
   "cell_type": "code",
   "execution_count": 27,
   "id": "fff801a7-e47d-4844-b29b-c08356cbf72f",
   "metadata": {},
   "outputs": [
    {
     "name": "stdout",
     "output_type": "stream",
     "text": [
      "sum is 2450\n"
     ]
    }
   ],
   "source": [
    "#even nos\n",
    "s=0\n",
    "for i in range(0,100,2):\n",
    "    s+=i\n",
    "print(\"sum is\",s)\n"
   ]
  },
  {
   "cell_type": "code",
   "execution_count": 32,
   "id": "441c3fe3-1d1c-4b84-80d6-f03f2fbac6b5",
   "metadata": {},
   "outputs": [
    {
     "name": "stdout",
     "output_type": "stream",
     "text": [
      "sum is 499500\n"
     ]
    }
   ],
   "source": [
    "#sum of series of N natural nos\n",
    "n=1000\n",
    "s=0\n",
    "for i in range(1,n,1):\n",
    "    s+=i\n",
    "print(\"sum is\",s)\n",
    "\n"
   ]
  },
  {
   "cell_type": "code",
   "execution_count": 34,
   "id": "903b8a91-e6f1-4d81-ad9d-5f08d2daa434",
   "metadata": {},
   "outputs": [
    {
     "name": "stdout",
     "output_type": "stream",
     "text": [
      "sum is 4851\n"
     ]
    }
   ],
   "source": [
    "n=99\n",
    "s=0\n",
    "for i in range(0,n,):\n",
    "    s+=i\n",
    "print(\"sum is\",s)\n"
   ]
  },
  {
   "cell_type": "code",
   "execution_count": 40,
   "id": "ff91c38f-4742-4339-826e-42263c4b4961",
   "metadata": {},
   "outputs": [
    {
     "name": "stdin",
     "output_type": "stream",
     "text": [
      "enter a number 6538260788\n"
     ]
    },
    {
     "name": "stdout",
     "output_type": "stream",
     "text": [
      "reversed no is 8870628356\n"
     ]
    }
   ],
   "source": [
    "n=int(input(\"enter a number\"))\n",
    "s=0\n",
    "while (n>0):\n",
    "    reverse=n%10\n",
    "    s=s*10+reverse\n",
    "    n=n//10\n",
    "print(\"reversed no is\",s)"
   ]
  },
  {
   "cell_type": "code",
   "execution_count": 41,
   "id": "c12115ec-c458-458d-a02f-e2111a803c4e",
   "metadata": {},
   "outputs": [
    {
     "name": "stdin",
     "output_type": "stream",
     "text": [
      "enter a name 779787689700897896758907\n"
     ]
    },
    {
     "ename": "TypeError",
     "evalue": "'>' not supported between instances of 'str' and 'int'",
     "output_type": "error",
     "traceback": [
      "\u001b[1;31m---------------------------------------------------------------------------\u001b[0m",
      "\u001b[1;31mTypeError\u001b[0m                                 Traceback (most recent call last)",
      "Cell \u001b[1;32mIn[41], line 3\u001b[0m\n\u001b[0;32m      1\u001b[0m n\u001b[38;5;241m=\u001b[39m\u001b[38;5;28mstr\u001b[39m(\u001b[38;5;28minput\u001b[39m(\u001b[38;5;124m\"\u001b[39m\u001b[38;5;124menter a name\u001b[39m\u001b[38;5;124m\"\u001b[39m))\n\u001b[0;32m      2\u001b[0m s\u001b[38;5;241m=\u001b[39m\u001b[38;5;241m0\u001b[39m\n\u001b[1;32m----> 3\u001b[0m \u001b[38;5;28;01mwhile\u001b[39;00m (n\u001b[38;5;241m>\u001b[39m\u001b[38;5;241m0\u001b[39m):\n\u001b[0;32m      4\u001b[0m     reverse\u001b[38;5;241m=\u001b[39mn\u001b[38;5;241m%\u001b[39m\u001b[38;5;241m1\u001b[39m\n\u001b[0;32m      5\u001b[0m     s\u001b[38;5;241m=\u001b[39ms\u001b[38;5;241m*\u001b[39m\u001b[38;5;241m10\u001b[39m\u001b[38;5;241m+\u001b[39mreverse\n",
      "\u001b[1;31mTypeError\u001b[0m: '>' not supported between instances of 'str' and 'int'"
     ]
    }
   ],
   "source": [
    "n=str(input(\"enter a name\"))\n",
    "s=0\n",
    "while (n>0):\n",
    "    reverse=n%1\n",
    "    s=s*10+reverse\n",
    "    n=n//10\n",
    "print(\"reversed no is\",s)"
   ]
  },
  {
   "cell_type": "code",
   "execution_count": 3,
   "id": "ce3ac92c-b2dd-4da4-abde-249714ff38b5",
   "metadata": {},
   "outputs": [
    {
     "name": "stdin",
     "output_type": "stream",
     "text": [
      "enter a value 5\n"
     ]
    },
    {
     "name": "stdout",
     "output_type": "stream",
     "text": [
      "factorial 120\n"
     ]
    }
   ],
   "source": [
    "n=int(input(\"enter a value\"))\n",
    "s=1 \n",
    "for i in range(1,n+1):\n",
    "    s*=i\n",
    "print(\"factorial\",s)\n"
   ]
  },
  {
   "cell_type": "markdown",
   "id": "b987820c-5537-4863-969c-642fc1a6e9d3",
   "metadata": {},
   "source": [
    "n=int(input(\"enter a value\"))\n",
    "for i in range(1,n):\n",
    "    if n%i==0:\n",
    "        print (i)\n",
    "    "
   ]
  },
  {
   "cell_type": "code",
   "execution_count": 55,
   "id": "ef74f117-74ba-447c-a65f-411658809ed0",
   "metadata": {},
   "outputs": [
    {
     "name": "stdout",
     "output_type": "stream",
     "text": [
      "1\n",
      "97\n"
     ]
    },
    {
     "name": "stdin",
     "output_type": "stream",
     "text": [
      "enter a value jgh\n"
     ]
    },
    {
     "ename": "ValueError",
     "evalue": "invalid literal for int() with base 10: 'jgh'",
     "output_type": "error",
     "traceback": [
      "\u001b[1;31m---------------------------------------------------------------------------\u001b[0m",
      "\u001b[1;31mValueError\u001b[0m                                Traceback (most recent call last)",
      "Cell \u001b[1;32mIn[55], line 6\u001b[0m\n\u001b[0;32m      4\u001b[0m     \u001b[38;5;28;01mif\u001b[39;00m n\u001b[38;5;241m%\u001b[39mi \u001b[38;5;241m==\u001b[39m \u001b[38;5;241m0\u001b[39m:\n\u001b[0;32m      5\u001b[0m         \u001b[38;5;28mprint\u001b[39m (i)\n\u001b[1;32m----> 6\u001b[0m \u001b[38;5;28mprint\u001b[39m(kb5())\n",
      "Cell \u001b[1;32mIn[55], line 2\u001b[0m, in \u001b[0;36mkb5\u001b[1;34m()\u001b[0m\n\u001b[0;32m      1\u001b[0m \u001b[38;5;28;01mdef\u001b[39;00m \u001b[38;5;21mkb5\u001b[39m():\n\u001b[1;32m----> 2\u001b[0m     n\u001b[38;5;241m=\u001b[39m\u001b[38;5;28mint\u001b[39m(\u001b[38;5;28minput\u001b[39m(\u001b[38;5;124m\"\u001b[39m\u001b[38;5;124menter a value\u001b[39m\u001b[38;5;124m\"\u001b[39m))\n",
      "\u001b[1;31mValueError\u001b[0m: invalid literal for int() with base 10: 'jgh'"
     ]
    }
   ],
   "source": [
    "def kb5():\n",
    "    n=int(input(\"enter a value\"))\n",
    "for i in range(1,n+1):\n",
    "    if n%i == 0:\n",
    "        print (i)\n",
    "print(kb5())"
   ]
  },
  {
   "cell_type": "code",
   "execution_count": 26,
   "id": "e5b5190c-c9e4-4724-86c9-0fd22ae12eca",
   "metadata": {},
   "outputs": [
    {
     "name": "stdin",
     "output_type": "stream",
     "text": [
      "enter a value 7878978978978956\n",
      "enter a value 89056790868590406790785778906789756378789056789057890890786476748970958678957697898777738989309030303003375758868947979498784995786589548754898957756897548975897698676767676767676758976895769467857897897907890890785490747\n"
     ]
    },
    {
     "name": "stdout",
     "output_type": "stream",
     "text": [
      "sum is  89056790868590406790785778906789756378789056789057890890786476748970958678957697898777738989309030303003375758868947979498784995786589548754898957756897548975897698676767676767676758976895769467857897897915769869764469703\n"
     ]
    }
   ],
   "source": [
    "n=int(input(\"enter a value\"))\n",
    "a=int(input(\"enter a value\"))\n",
    "def kb6(n,a):\n",
    "    s=n+a\n",
    "    print(\"sum is \",s)\n",
    "kb6(n,a)"
   ]
  },
  {
   "cell_type": "code",
   "execution_count": 35,
   "id": "ffe70efb-5519-4b72-81c4-0b62ba30a154",
   "metadata": {},
   "outputs": [
    {
     "name": "stdout",
     "output_type": "stream",
     "text": [
      "names ['abi', 'daniel', 'nithu']\n",
      "digits [121, 122, 160]\n"
     ]
    }
   ],
   "source": [
    "l=[\"abi\",\"daniel\",\"nithu\", 121,122,160]\n",
    "name=l[0:3]\n",
    "digit=l[3:]\n",
    "print (\"names\",name)\n",
    "print (\"digits\",digit)"
   ]
  },
  {
   "cell_type": "code",
   "execution_count": 36,
   "id": "87e6e697-7855-46bc-a39f-553e165394f8",
   "metadata": {},
   "outputs": [
    {
     "name": "stdin",
     "output_type": "stream",
     "text": [
      "enter a value 13\n"
     ]
    },
    {
     "name": "stdout",
     "output_type": "stream",
     "text": [
      "[1, 13]\n"
     ]
    }
   ],
   "source": [
    "n=int(input(\"enter a value\"))\n",
    "factorlist=[]\n",
    "for i in range(1,n+1):\n",
    "    if n%i==0:\n",
    "        factorlist.append(i)\n",
    "print(factorlist)\n"
   ]
  },
  {
   "cell_type": "code",
   "execution_count": 48,
   "id": "d6083af1-9c89-4a19-99b1-8047eb2fd0ee",
   "metadata": {},
   "outputs": [
    {
     "name": "stdin",
     "output_type": "stream",
     "text": [
      "enter a value 1000\n"
     ]
    },
    {
     "name": "stdout",
     "output_type": "stream",
     "text": [
      "[1, 2, 4, 5, 8, 10, 20, 25, 40, 50, 100, 125, 200, 250, 500, 1000]\n"
     ]
    }
   ],
   "source": [
    "n=int(input(\"enter a value\"))\n",
    "def kb7(n):\n",
    "    factorlist=[]\n",
    "    for i in range(1,n+1):\n",
    "        if n%i==0:\n",
    "            factorlist.append(i)\n",
    "    return factorlist\n",
    "\n",
    "print(kb7(n))"
   ]
  },
  {
   "cell_type": "code",
   "execution_count": 56,
   "id": "d9220081-536f-4f32-8966-b734ba2e28fc",
   "metadata": {},
   "outputs": [
    {
     "name": "stdin",
     "output_type": "stream",
     "text": [
      "enter a value 17\n"
     ]
    },
    {
     "name": "stdout",
     "output_type": "stream",
     "text": [
      "True\n"
     ]
    }
   ],
   "source": [
    "n=int(input(\"enter a value\"))\n",
    "def prime(n):\n",
    "    return (kb7(n)==[1,n])\n",
    "print(prime(n))\n",
    "\n",
    "\n",
    "            \n",
    "    "
   ]
  },
  {
   "cell_type": "code",
   "execution_count": 57,
   "id": "c5c805f0-b57f-4e35-b9c9-fa7e108955f4",
   "metadata": {},
   "outputs": [
    {
     "name": "stdout",
     "output_type": "stream",
     "text": [
      "[2, 3, 5, 7, 11, 13, 17, 19, 23, 29, 31, 37, 41, 43, 47, 53, 59, 61, 67, 71, 73, 79, 83, 89, 97]\n"
     ]
    }
   ],
   "source": [
    "primelist=[]\n",
    "for i in range(1,101):\n",
    "    if (prime(i)):\n",
    "        primelist.append(i)\n",
    "print(primelist)\n",
    "    \n",
    "    "
   ]
  },
  {
   "cell_type": "code",
   "execution_count": null,
   "id": "7a703298-814b-4f4c-816c-d40117605e99",
   "metadata": {},
   "outputs": [],
   "source": []
  }
 ],
 "metadata": {
  "kernelspec": {
   "display_name": "Python 3 (ipykernel)",
   "language": "python",
   "name": "python3"
  },
  "language_info": {
   "codemirror_mode": {
    "name": "ipython",
    "version": 3
   },
   "file_extension": ".py",
   "mimetype": "text/x-python",
   "name": "python",
   "nbconvert_exporter": "python",
   "pygments_lexer": "ipython3",
   "version": "3.12.7"
  }
 },
 "nbformat": 4,
 "nbformat_minor": 5
}
