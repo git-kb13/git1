{
 "cells": [
  {
   "cell_type": "code",
   "execution_count": 3,
   "id": "54abda3c-0a32-4816-a0c9-6b2942c22351",
   "metadata": {},
   "outputs": [
    {
     "name": "stdout",
     "output_type": "stream",
     "text": [
      "Requirement already satisfied: numpy in c:\\users\\student\\anaconda3\\lib\\site-packages (1.26.4)\n",
      "Note: you may need to restart the kernel to use updated packages.\n"
     ]
    }
   ],
   "source": [
    "pip install numpy"
   ]
  },
  {
   "cell_type": "code",
   "execution_count": 1,
   "id": "9e702716-7c4d-4be8-bee0-b6e7694d5956",
   "metadata": {},
   "outputs": [
    {
     "name": "stdout",
     "output_type": "stream",
     "text": [
      "Requirement already satisfied: numpy in c:\\users\\student\\anaconda3\\lib\\site-packages (1.26.4)\n",
      "Note: you may need to restart the kernel to use updated packages.\n"
     ]
    }
   ],
   "source": [
    "pip install numpy"
   ]
  },
  {
   "cell_type": "code",
   "execution_count": 2,
   "id": "2b972aa9-6bba-4220-b798-df22f2bc83cc",
   "metadata": {},
   "outputs": [],
   "source": [
    "import numpy as np"
   ]
  },
  {
   "cell_type": "code",
   "execution_count": 19,
   "id": "6a8c81e5-023d-46e7-893b-51d9713b8bc3",
   "metadata": {},
   "outputs": [
    {
     "name": "stdout",
     "output_type": "stream",
     "text": [
      "list: [1, 2, 3, 4]\n",
      "<class 'list'>\n",
      "numpy array: [1 2 3 4]\n",
      "<class 'numpy.ndarray'>\n"
     ]
    }
   ],
   "source": [
    "l=[1,2,3,4]\n",
    "print(\"list:\",l)\n",
    "print(type(l))\n",
    "one_d_array = np.array(l)\n",
    "print(\"numpy array:\",one_d_array)\n",
    "print(type(one_d_array))"
   ]
  },
  {
   "cell_type": "code",
   "execution_count": 15,
   "id": "9bc249ec-c06b-4422-8f76-c32b45fe34d6",
   "metadata": {},
   "outputs": [
    {
     "name": "stdout",
     "output_type": "stream",
     "text": [
      "list: ([1, 2], [3, 4])\n",
      "<class 'list'>\n",
      "[[1 2]\n",
      " [3 4]]\n",
      "<class 'numpy.ndarray'>\n"
     ]
    }
   ],
   "source": [
    "la=[1,2],[3,4]\n",
    "print(\"list:\",la)\n",
    "print(type(l))\n",
    "two_d_array=np.array(la)\n",
    "print(two_d_array)\n",
    "print(type(two_d_array))"
   ]
  },
  {
   "cell_type": "code",
   "execution_count": 14,
   "id": "1b26f807-bfa6-4fa8-885e-a021375f5e7c",
   "metadata": {},
   "outputs": [
    {
     "name": "stdout",
     "output_type": "stream",
     "text": [
      "<class 'list'>\n",
      "[[[1 2 5]\n",
      "  [3 4 6]\n",
      "  [5 6 8]]]\n",
      "<class 'numpy.ndarray'>\n"
     ]
    }
   ],
   "source": [
    "k=[[[1,2,5],[3,4,6],[5,6,8]]]\n",
    "print(type(k))\n",
    "three_d_array=np.array(k)\n",
    "print(three_d_array)\n",
    "print(type(three_d_array))"
   ]
  },
  {
   "cell_type": "code",
   "execution_count": 21,
   "id": "32bbba36-2db5-4d5a-b597-deac6fcaad9f",
   "metadata": {},
   "outputs": [
    {
     "name": "stdout",
     "output_type": "stream",
     "text": [
      "one d array dimension: 1\n",
      "one d array shape: (4,)\n",
      "one d array size: 4\n",
      "\n",
      "\n",
      "two d array dimension: 2\n",
      "two d array shape: (2, 2)\n",
      "two d array size: 4\n",
      "\n",
      "\n",
      "three d array dimension: 3\n",
      "three d array shape: (1, 3, 3)\n",
      "three d array size: 9\n"
     ]
    }
   ],
   "source": [
    "print(\"one d array dimension:\",one_d_array.ndim)\n",
    "print(\"one d array shape:\",one_d_array.shape)\n",
    "print(\"one d array size:\",one_d_array.size)\n",
    "print(\"\\n\")\n",
    "print(\"two d array dimension:\",two_d_array.ndim)\n",
    "print(\"two d array shape:\",two_d_array.shape)\n",
    "print(\"two d array size:\",two_d_array.size)\n",
    "print(\"\\n\")\n",
    "print(\"three d array dimension:\",three_d_array.ndim)\n",
    "print(\"three d array shape:\",three_d_array.shape)\n",
    "print(\"three d array size:\",three_d_array.size)"
   ]
  },
  {
   "cell_type": "code",
   "execution_count": 23,
   "id": "f69142fe-2c6c-47cf-be60-63a9bbfef119",
   "metadata": {},
   "outputs": [
    {
     "name": "stdout",
     "output_type": "stream",
     "text": [
      "memory cons by an element 28\n",
      "total memory usage 280\n"
     ]
    }
   ],
   "source": [
    "import sys\n",
    "sample_list = [0,1,2,3,4,5,6,7,8,9]\n",
    "print(\"memory cons by an element\",sys.getsizeof(sample_list[0]))\n",
    "print(\"total memory usage\",(sys.getsizeof(sample_list[0]))*len(sample_list))"
   ]
  },
  {
   "cell_type": "code",
   "execution_count": 25,
   "id": "52b60b6a-b212-4645-a7dd-12ec456a9e5a",
   "metadata": {},
   "outputs": [
    {
     "name": "stdout",
     "output_type": "stream",
     "text": [
      "memory cons by an element 4\n",
      "total memory usage 40\n"
     ]
    }
   ],
   "source": [
    "numpy_array = np.array( [0,1,2,3,4,5,6,7,8,9])\n",
    "print(\"memory cons by an element\",numpy_array.itemsize)\n",
    "print(\"total memory usage\",numpy_array.itemsize*numpy_array.size)"
   ]
  },
  {
   "cell_type": "code",
   "execution_count": null,
   "id": "55ae6c3b-89a7-40c6-92f2-61a6ba7573bb",
   "metadata": {},
   "outputs": [],
   "source": []
  }
 ],
 "metadata": {
  "kernelspec": {
   "display_name": "Python 3 (ipykernel)",
   "language": "python",
   "name": "python3"
  },
  "language_info": {
   "codemirror_mode": {
    "name": "ipython",
    "version": 3
   },
   "file_extension": ".py",
   "mimetype": "text/x-python",
   "name": "python",
   "nbconvert_exporter": "python",
   "pygments_lexer": "ipython3",
   "version": "3.12.7"
  }
 },
 "nbformat": 4,
 "nbformat_minor": 5
}
